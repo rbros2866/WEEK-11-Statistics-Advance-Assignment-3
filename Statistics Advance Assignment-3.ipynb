{
 "cells": [
  {
   "cell_type": "markdown",
   "metadata": {},
   "source": [
    "**Q1:** What is Estimation Statistics? Explain point estimate and interval estimate."
   ]
  },
  {
   "cell_type": "markdown",
   "metadata": {},
   "source": [
    "**Estimation Statistics:**\n",
    "\n",
    "Estimation in statistics involves using sample data to make predictions or inferences about population parameters.\n",
    "\n",
    "It's about making educated guesses or approximations based on available sample information.\n",
    "\n",
    "**Point Estimate:**\n",
    "\n",
    "A single value used to approximate a specific population parameter.\n",
    "\n",
    "Provides a straightforward \"best guess\" but doesn't capture uncertainty.\n",
    "\n",
    "Example: Sample mean as an estimate for the population mean.\n",
    "\n",
    "**Interval Estimate (Confidence Interval):**\n",
    "\n",
    "Provides a range of values likely to contain the true population parameter.\n",
    "\n",
    "Includes a confidence level indicating the likelihood of the parameter falling within the range.\n",
    "\n",
    "Acknowledges and quantifies uncertainty in estimation.\n",
    "\n",
    "Common confidence levels: 90%, 95%, 99%.\n",
    "\n",
    "Example: 95% confidence interval for average height: 160 cm to 170 cm means 95% confidence that the true average height falls within this range.\n",
    "\n",
    "\n",
    "\n",
    "\n"
   ]
  },
  {
   "cell_type": "markdown",
   "metadata": {},
   "source": [
    "**Q2.** Write a Python function to estimate the population mean using a sample mean and standard\n",
    "deviation."
   ]
  },
  {
   "cell_type": "code",
   "execution_count": 2,
   "metadata": {},
   "outputs": [
    {
     "name": "stdout",
     "output_type": "stream",
     "text": [
      "Estimated Population Mean: 50\n"
     ]
    }
   ],
   "source": [
    "def estimate_population_mean(sample_mean, sample_std_deviation, sample_size):\n",
    "    population_mean_estimate = sample_mean\n",
    "    return population_mean_estimate\n",
    "\n",
    "sample_mean = 50\n",
    "sample_std_deviation = 7\n",
    "sample_size = 100\n",
    "\n",
    "estimated_mean = estimate_population_mean(sample_mean, sample_std_deviation, sample_size)\n",
    "print(\"Estimated Population Mean:\", estimated_mean)\n"
   ]
  },
  {
   "cell_type": "markdown",
   "metadata": {},
   "source": [
    "**Q3:** What is Hypothesis testing? Why is it used? State the importance of Hypothesis testing."
   ]
  },
  {
   "cell_type": "markdown",
   "metadata": {},
   "source": [
    "**Hypothesis Testing:**\n",
    "\n",
    "Hypothesis testing is a statistical method used to make decisions about population parameters based on sample data.\n",
    "\n",
    "It involves formulating two competing hypotheses: the null hypothesis (H0) and the alternative hypothesis (H1 or Ha).\n",
    "\n",
    "The goal is to assess the evidence in the sample data and determine if there's enough evidence to reject the null hypothesis in favor of the alternative hypothesis.\n",
    "\n",
    "**Purpose and Importance:**\n",
    "\n",
    "Statistical Inference: Hypothesis testing provides a framework for drawing conclusions about populations using sample data.\n",
    "\n",
    "Scientific Decision-Making: It helps researchers and analysts make informed decisions by evaluating competing hypotheses.\n",
    "\n",
    "Evidence-Based Results: Hypothesis testing allows us to quantify the uncertainty associated with conclusions, providing a basis for robust and reliable conclusions.\n",
    "\n",
    "Validating Assumptions: It helps validate assumptions about population parameters and guide further research or actions.\n",
    "\n",
    "Comparisons and Discoveries: Hypothesis testing enables comparisons between groups, treatments, or conditions, leading to discoveries and insights.\n",
    "\n",
    "Objectivity: It introduces objectivity into decision-making by relying on statistical measures rather than intuition or opinions.\n",
    "\n",
    "\n",
    "**Importance of Hypothesis Testing:**\n",
    "\n",
    "Provides a systematic and objective approach to draw conclusions from data.\n",
    "\n",
    "Establishes a framework for testing theories, making predictions, and validating assumptions.\n",
    "\n",
    "Helps prevent drawing incorrect conclusions by quantifying uncertainty.\n",
    "\n",
    "Supports evidence-based decision-making in various fields, from medicine to economics.\n",
    "\n",
    "Forms the backbone of scientific research and contributes to the advancement of knowledge."
   ]
  },
  {
   "cell_type": "markdown",
   "metadata": {},
   "source": [
    "**Q4.** Create a hypothesis that states whether the average weight of male college students is greater than\n",
    "the average weight of female college students."
   ]
  },
  {
   "cell_type": "markdown",
   "metadata": {},
   "source": [
    "**Null Hypothesis (H0):** The average weight of male college students is equal to or less than the average weight of female college students.\n",
    "\n",
    "**Alternative Hypothesis (H1):** The average weight of male college students is greater than the average weight of female college students.\n",
    "\n",
    "In symbols:\n",
    "\n",
    "H0: μ_male ≤ μ_female\n",
    "\n",
    "H1: μ_male > μ_female\n",
    "\n",
    "Here, μ_male represents the population mean weight of male college students, and μ_female represents the population mean weight of female college students. The null hypothesis \n",
    "\n",
    "assumes that there is no significant difference or that male students may even have lower average weights than female students. The alternative hypothesis proposes that male students, on average, have greater weights than female students."
   ]
  },
  {
   "cell_type": "markdown",
   "metadata": {},
   "source": [
    "**Q5.** Write a Python script to conduct a hypothesis test on the difference between two population means,\n",
    "given a sample from each population."
   ]
  },
  {
   "cell_type": "code",
   "execution_count": 3,
   "metadata": {},
   "outputs": [
    {
     "name": "stdout",
     "output_type": "stream",
     "text": [
      "T-Statistic: 4.841229182759272\n",
      "P-Value: 0.00013106674929738225\n",
      "Reject Null Hypothesis: The average weight of male college students is greater than female college students.\n"
     ]
    }
   ],
   "source": [
    "import numpy as np\n",
    "from scipy import stats\n",
    "\n",
    "male_weights = np.array([70, 75, 80, 72, 68, 77, 82, 73, 69, 74])\n",
    "female_weights = np.array([60, 65, 70, 62, 58, 67, 72, 63, 59, 64])\n",
    "\n",
    "# Set significance level (alpha)\n",
    "alpha = 0.05\n",
    "\n",
    "# Perform two-sample t-test assuming unequal variances\n",
    "t_statistic, p_value = stats.ttest_ind(male_weights, female_weights, equal_var=False)\n",
    "\n",
    "print(\"T-Statistic:\", t_statistic)\n",
    "print(\"P-Value:\", p_value)\n",
    "\n",
    "# Compare p-value to significance level\n",
    "if p_value < alpha:\n",
    "    print(\"Reject Null Hypothesis: The average weight of male college students is greater than female college students.\")\n",
    "else:\n",
    "    print(\"Fail to Reject Null Hypothesis: There is no significant difference in the average weights.\")\n"
   ]
  },
  {
   "cell_type": "markdown",
   "metadata": {},
   "source": [
    "**Q6:** What is a null and alternative hypothesis? Give some examples."
   ]
  },
  {
   "cell_type": "markdown",
   "metadata": {},
   "source": [
    "**Null Hypothesis (H0):** \n",
    "\n",
    "The null hypothesis is a statement that assumes there is no significant effect, relationship, or difference in the population parameters being tested.\n",
    "\n",
    " It represents the status quo or a lack of change from the existing state.\n",
    "\n",
    " In statistical hypothesis testing, you initially assume that the null hypothesis is true and seek evidence to either support or reject it.\n",
    "\n",
    "**Alternative Hypothesis (Ha):** \n",
    "\n",
    "The alternative hypothesis is a statement that contradicts the null hypothesis. \n",
    "\n",
    "It suggests that there is a significant effect, relationship, or difference in the population parameters being tested. \n",
    "\n",
    "The alternative hypothesis is what you are trying to find evidence for; it's the hypothesis you want to support if the data suggests a significant departure from the null hypothesis.\n",
    "\n",
    "**Examples:**\n",
    "\n",
    "**Null Hypothesis:** The new drug has no effect on reducing blood pressure.\n",
    "\n",
    "**Alternative Hypothesis:** The new drug significantly reduces blood pressure.\n",
    "\n",
    "**Null Hypothesis:** There is no difference in the mean test scores of students who attended the tutoring program and those who didn't.\n",
    "\n",
    "**Alternative Hypothesis:** Students who attended the tutoring program have significantly different mean test scores.\n",
    "\n",
    "**Null Hypothesis:** The average commute time with the new route is the same as or longer than with the old route.\n",
    "\n",
    "**Alternative Hypothesis:** The average commute time with the new route is shorter than with the old route.\n",
    "\n",
    "**Null Hypothesis:** There is no association between smoking and lung cancer.\n",
    "\n",
    "**Alternative Hypothesis:** Smoking is associated with an increased risk of developing lung cancer.\n",
    "\n",
    "**Null Hypothesis:** The new marketing campaign has no impact on sales conversion rates.\n",
    "\n",
    "**Alternative Hypothesis:** The new marketing campaign leads to a significant increase in sales conversion rates."
   ]
  },
  {
   "cell_type": "markdown",
   "metadata": {},
   "source": [
    "**Q7:** Write down the steps involved in hypothesis testing."
   ]
  },
  {
   "cell_type": "markdown",
   "metadata": {},
   "source": [
    "**Formulate Hypotheses:**\n",
    "\n",
    "Develop the null hypothesis (H0) assuming no effect or difference.\n",
    "\n",
    "Create the alternative hypothesis (Ha) proposing a specific effect or difference.\n",
    "\n",
    "**Collect Data:**\n",
    "\n",
    "Gather relevant sample data from the populations.\n",
    "\n",
    "**Choose Significance Level:**\n",
    "\n",
    "Set the significance level (alpha), typically 0.05 or 0.01.\n",
    "\n",
    "**Select Statistical Test:**\n",
    "\n",
    "Choose an appropriate test based on data type and research question.\n",
    "\n",
    "**Calculate Test Statistic:**\n",
    "\n",
    "Compute the test statistic using sample data.\n",
    "\n",
    "**Determine Critical Region:**\n",
    "\n",
    "Identify critical region(s) in the test statistic's distribution.\n",
    "\n",
    "**Calculate P-Value:**\n",
    "\n",
    "Calculate the probability of observing the test statistic under the null hypothesis.\n",
    "\n",
    "**Compare P-Value and Significance Level:**\n",
    "\n",
    "If p-value < α, results are statistically significant.\n",
    "\n",
    "**Make a Decision:**\n",
    "\n",
    "If p-value < α, reject the null hypothesis.\n",
    "\n",
    "If p-value ≥ α, fail to reject the null hypothesis.\n",
    "\n",
    "**Draw Conclusion:**\n",
    "\n",
    "Interpret the decision in the context of the research.\n",
    "\n",
    "**Considerations and Limitations:**\n",
    "\n",
    "Reflect on assumptions, limitations, and potential errors."
   ]
  },
  {
   "cell_type": "markdown",
   "metadata": {},
   "source": [
    "**Q8.** Define p-value and explain its significance in hypothesis testing."
   ]
  },
  {
   "cell_type": "markdown",
   "metadata": {},
   "source": [
    "**P-value:**\n",
    "\n",
    "The p-value, or probability value, is a measure used in hypothesis testing to quantify the strength of evidence against the null hypothesis.\n",
    "\n",
    "It indicates the probability of obtaining the observed results (or more extreme results) if the null hypothesis is true.\n",
    "\n",
    "**Significance in Hypothesis Testing:**\n",
    "\n",
    "Evidence Strength: A smaller p-value suggests stronger evidence against the null hypothesis. A larger p-value indicates weaker evidence.\n",
    "\n",
    "Decision Guideline: The p-value is compared to the significance level (alpha) to make a decision about whether to reject or fail to reject the null hypothesis.\n",
    "\n",
    "Rejection Rule: If p-value < α, results are considered statistically significant, and the null hypothesis is rejected.\n",
    "\n",
    "Non-Rejection Rule: If p-value ≥ α, results are not considered statistically significant, and the null hypothesis is not rejected.\n",
    "\n",
    "Interpretation: A small p-value suggests that the observed data is unlikely under the assumption of the null hypothesis, leading to a rejection of the null hypothesis in favor of the alternative hypothesis.\n",
    "\n",
    "Magnitude of Effect: While a small p-value suggests an effect exists, it doesn't indicate the size or practical significance of the effect.\n",
    "\n",
    "**Example:**\n",
    "\n",
    "Suppose you're testing whether a new drug reduces blood pressure compared to a placebo.\n",
    "\n",
    "If p-value is 0.02 and significance level (α) is 0.05:\n",
    "\n",
    "Since p-value < α, you'd reject the null hypothesis.\n",
    "\n",
    "This suggests that the data provides strong evidence that the drug has an effect on blood pressure.\n",
    "\n",
    "**Caution:**\n",
    "\n",
    "A small p-value doesn't prove the alternative hypothesis; it just suggests evidence against the null hypothesis.\n",
    "\n",
    "A large p-value doesn't prove the null hypothesis; it suggests weak evidence against it.\n",
    "\n",
    "**Flexibility:**\n",
    "\n",
    "The choice of significance level (α) affects p-value interpretation.\n",
    "\n",
    "Researchers decide whether a p-value is sufficiently low to reject the null hypothesis based on the research context and field standards.\n",
    "\n"
   ]
  },
  {
   "cell_type": "markdown",
   "metadata": {},
   "source": [
    "**Q9.** Generate a Student's t-distribution plot using Python's matplotlib library, with the degrees of freedom parameter set to 10."
   ]
  },
  {
   "cell_type": "code",
   "execution_count": 4,
   "metadata": {},
   "outputs": [
    {
     "data": {
      "image/png": "[encoded data removed]",
      "text/plain": [
       "<Figure size 640x480 with 1 Axes>"
      ]
     },
     "metadata": {},
     "output_type": "display_data"
    }
   ],
   "source": [
    "import numpy as np\n",
    "import matplotlib.pyplot as plt\n",
    "from scipy import stats\n",
    "\n",
    "# Degrees of freedom\n",
    "df = 10\n",
    "\n",
    "x = np.linspace(-4, 4, 400)\n",
    "\n",
    "# Calculate the corresponding y values using the t-distribution PDF\n",
    "y = stats.t.pdf(x, df)\n",
    "\n",
    "\n",
    "plt.plot(x, y, label=f\"t-distribution (df = {df})\")\n",
    "plt.title(\"Student's t-Distribution\")\n",
    "plt.xlabel(\"x\")\n",
    "plt.ylabel(\"Probability Density\")\n",
    "plt.legend()\n",
    "plt.grid(True)\n",
    "plt.show()\n"
   ]
  },
  {
   "cell_type": "markdown",
   "metadata": {},
   "source": [
    "**Q10.** Write a Python program to calculate the two-sample t-test for independent samples,\n",
    "\n",
    " given two random samples of equal size and a null hypothesis that the population means are equal."
   ]
  },
  {
   "cell_type": "code",
   "execution_count": 5,
   "metadata": {},
   "outputs": [
    {
     "name": "stdout",
     "output_type": "stream",
     "text": [
      "T-Statistic: -0.5442084482253088\n",
      "P-Value: 0.5894773060971581\n",
      "Fail to Reject Null Hypothesis: Population means are equal.\n"
     ]
    }
   ],
   "source": [
    "import numpy as np\n",
    "from scipy import stats\n",
    "\n",
    "sample_size = 20\n",
    "sample_1 = np.random.normal(loc=50, scale=10, size=sample_size)\n",
    "sample_2 = np.random.normal(loc=50, scale=12, size=sample_size)\n",
    "\n",
    "# Set significance level (alpha)\n",
    "alpha = 0.05\n",
    "\n",
    "# Perform two-sample t-test assuming equal variances\n",
    "t_statistic, p_value = stats.ttest_ind(sample_1, sample_2)\n",
    "\n",
    "\n",
    "print(\"T-Statistic:\", t_statistic)\n",
    "print(\"P-Value:\", p_value)\n",
    "\n",
    "\n",
    "if p_value < alpha:\n",
    "    print(\"Reject Null Hypothesis: Population means are not equal.\")\n",
    "else:\n",
    "    print(\"Fail to Reject Null Hypothesis: Population means are equal.\")\n"
   ]
  },
  {
   "cell_type": "markdown",
   "metadata": {},
   "source": [
    "**Q11:** What is Student’s t distribution? When to use the t-Distribution."
   ]
  },
  {
   "cell_type": "markdown",
   "metadata": {},
   "source": [
    "**Definition:** The Student's t-distribution is a probability distribution used in statistics to model situations with small sample sizes and unknown population standard deviations.\n",
    "\n",
    "**Shape:** Similar to the standard normal distribution (z-distribution), but with heavier tails. As sample size increases, it approaches the standard normal distribution.\n",
    "\n",
    "**Degrees of Freedom (df):** The shape of the t-distribution is determined by the degrees of freedom parameter. It controls the spread and shape of the distribution and is related to the sample size.\n",
    "\n",
    "**Use Cases:**\n",
    "\n",
    "Small Sample Sizes: Particularly useful when dealing with sample sizes less than 30.\n",
    "\n",
    "Unknown Population Variance: Used when the population standard deviation is unknown and cannot be reliably estimated from the sample.\n",
    "\n",
    "Population Not Normally Distributed: Can be used when the population is not normally distributed and sample size is not extremely large.\n",
    "\n",
    "**Scenarios:**\n",
    "\n",
    "**Student's t-test:** Compares means of two groups with small sample sizes and unknown population variances.\n",
    "\n",
    "**Confidence Intervals:** Calculates confidence intervals for population means with small sample sizes and unknown population standard deviation.\n",
    "\n",
    "**Regression Analysis:** Utilized for testing significance of regression coefficients in linear regression.\n",
    "\n",
    "**Approximation:** As sample sizes increase, the t-distribution approaches the standard normal distribution. For large sample sizes, the standard normal distribution can be used as an approximation."
   ]
  },
  {
   "cell_type": "markdown",
   "metadata": {},
   "source": [
    "**Q12:** What is t-statistic? State the formula for t-statistic."
   ]
  },
  {
   "cell_type": "markdown",
   "metadata": {},
   "source": [
    "The t-statistic, also known as the Student's t-statistic, is a measure used in statistics to determine the significance of the difference between sample means or the relationship between a sample mean and a population mean. It's commonly used in hypothesis testing and can help you decide whether the observed difference between groups is likely due to a real effect or just due to random variation.\n",
    "\n",
    "**One-sample t-test:**\n",
    "\n",
    "Used to assess if a sample mean is significantly different from a hypothesized population mean.\n",
    "\n",
    "Formula: t = (x̄ - μ) / (s / √n)\n",
    "\n",
    "x̄: Sample mean\n",
    "\n",
    "μ: Population mean\n",
    "\n",
    "s: Sample standard deviation\n",
    "\n",
    "n: Sample size\n",
    "\n",
    "**Two-sample t-test (Independent samples):**\n",
    "\n",
    "Compares means of two independent groups to determine if their difference is significant.\n",
    "\n",
    "Formula: t = (x̄₁ - x̄₂) / √((s₁²/n₁) + (s₂²/n₂))\n",
    "\n",
    "x̄₁, x̄₂: Means of the two samples\n",
    "\n",
    "s₁, s₂: Standard deviations of the two samples\n",
    "\n",
    "n₁, n₂: Sizes of the two samples\n",
    "\n",
    "The t-statistic's magnitude relative to variability helps determine statistical significance.\n",
    "\n",
    "Compare t-statistic to critical values or calculate p-values using t-distribution.\n",
    "\n",
    "Interpretation depends on chosen significance level (alpha) and degrees of freedom."
   ]
  },
  {
   "cell_type": "markdown",
   "metadata": {},
   "source": [
    "**Q13.** A coffee shop owner wants to estimate the average daily revenue for their shop. They take a random sample of 50 days and find the sample mean revenue to be $500 with a standard deviation of $50.\n",
    "\n",
    "Estimate the population mean revenue with a 95% confidence interval."
   ]
  },
  {
   "cell_type": "markdown",
   "metadata": {},
   "source": [
    "**Given data:**\n",
    "\n",
    "Sample Mean (x̄) : $500\n",
    "Sample Standard Deviation (s): $50\n",
    "Sample Size (n): 50\n",
    "Confidence Level: 95%\n",
    "\n",
    "**Calculations:**\n",
    "\n",
    "**Calculate the Margin of Error:**\n",
    "\n",
    "The margin of error is calculated using the formula:\n",
    "\n",
    "**Margin of Error = Critical Value × Sample Standard Deviation/√n**\n",
    "​\n",
    "For a 95% confidence interval with 49 degrees of freedom (50 - 1), we can find the critical value from a t-distribution table or calculator. The critical value is approximately 2.0096.\n",
    "\n",
    "**Margin of Error = 2.0096 × 50 /√50 ≈ 14.20**\n",
    "\n",
    "**Calculate the Confidence Interval:**\n",
    "\n",
    "The confidence interval is calculated by adding and subtracting the margin of error from the sample mean.\n",
    "\n",
    "Lower Bound = Sample Mean − Margin of Error = 500 − 14.20 = **485.80**\n",
    "\n",
    "Upper Bound = Sample Mean + Margin of Error = 500 + 14.20 = **514.20**\n",
    "\n",
    "**Conclusion:**\n",
    "\n",
    "The 95% confidence interval for the population mean revenue is approximately $485.80 to $514.20. This means that we can be 95% confident that the true average daily revenue for the coffee shop falls within this interval based on the sample data."
   ]
  },
  {
   "cell_type": "code",
   "execution_count": 6,
   "metadata": {},
   "outputs": [
    {
     "name": "stdout",
     "output_type": "stream",
     "text": [
      "95% Confidence Interval: $485.79 to $514.21\n"
     ]
    }
   ],
   "source": [
    "import scipy.stats as stats\n",
    "\n",
    "sample_mean = 500\n",
    "sample_std_dev = 50\n",
    "sample_size = 50\n",
    "confidence_level = 0.95\n",
    "degrees_of_freedom = sample_size - 1\n",
    "\n",
    "# Calculate the critical value from the t-distribution\n",
    "\n",
    "critical_value = stats.t.ppf(1 - (1 - confidence_level) / 2, df=degrees_of_freedom)\n",
    "\n",
    "# Calculate the margin of error\n",
    "margin_of_error = critical_value * (sample_std_dev / (sample_size ** 0.5))\n",
    "\n",
    "# Calculate the confidence interval\n",
    "lower_bound = sample_mean - margin_of_error\n",
    "upper_bound = sample_mean + margin_of_error\n",
    "\n",
    "\n",
    "print(f\"95% Confidence Interval: ${lower_bound:.2f} to ${upper_bound:.2f}\")\n"
   ]
  },
  {
   "cell_type": "markdown",
   "metadata": {},
   "source": [
    "**Q14.** A researcher hypothesizes that a new drug will decrease blood pressure by 10 mmHg. \n",
    "\n",
    "They conduct aclinical trial with 100 patients and find that the sample mean decrease in blood pressure is 8 mmHg with a standard deviation of 3 mmHg.\n",
    "\n",
    "Test the hypothesis with a significance level of 0.05."
   ]
  },
  {
   "cell_type": "markdown",
   "metadata": {},
   "source": [
    "To test the hypothesis that the new drug decreases blood pressure by 10 mmHg with a significance level of 0.05, you would perform a one-sample t-test. The null hypothesis (H0) is that the drug does not decrease blood pressure by 10 mmHg, and the alternative hypothesis (H1) is that the drug does decrease blood pressure by 10 mmHg.\n",
    "\n",
    "Given data:\n",
    "\n",
    "Sample Mean (x̄): 8 mmHg\n",
    "\n",
    "Sample Standard Deviation (s): 3 mmHg\n",
    "\n",
    "Sample Size (n): 100\n",
    "\n",
    "Hypothesized Mean (μ0): 10 mmHg (null hypothesis)\n",
    "\n",
    "Significance Level (α): 0.05\n",
    "\n",
    "Here's how you can perform the one-sample t-test and interpret the results:\n",
    "\n",
    "Calculate the t-statistic:\n",
    "\n",
    "The formula for the t-statistic is: t = x̄ -μ0 /3/√n\n",
    "\n",
    "Plugging in the values: t = -6.66\n",
    "\n",
    "**Calculate degrees of freedom:**\n",
    "\n",
    "Degrees of Freedom (df) is the sample size minus 1: df = 100 − 1 = 99.\n",
    "\n",
    "Find the critical t-value:\n",
    "\n",
    "Since the significance level (α) is 0.05 and it's a two-tailed test, you need to find the critical t-value that corresponds to a cumulative probability of \n",
    "α/2 = 0.025 from the t-distribution with 99 degrees of freedom. You can use a t-distribution table or a calculator to find this value. Let's say the critical t-value is t critical\n",
    "​\n",
    "\n",
    "Compare the t-statistic and critical t-value:\n",
    "\n",
    "If ∣t∣ ≥ critical , we reject the null hypothesis H0\n",
    "\n",
    "In this case, |−6.66|, and let's say t critical is approximately 1.98 (based on a t-distribution table).\n",
    "\n",
    "Since 6.66 ≥ 1.984 we would reject the null hypothesis.\n",
    "\n",
    "Conclusion:\n",
    "\n",
    "Based on the one-sample t-test with a significance level of 0.05, there is enough evidence to suggest that the new drug decreases blood pressure by a different amount than 10 mmHg. The sample data provides a significant difference from the hypothesized decrease of 10 mmHg."
   ]
  },
  {
   "cell_type": "code",
   "execution_count": 7,
   "metadata": {},
   "outputs": [
    {
     "name": "stdout",
     "output_type": "stream",
     "text": [
      "t-Statistic: -6.666666666666667\n",
      "Critical t-Value: 1.9842169515086827\n",
      "Conclusion: Reject the null hypothesis\n"
     ]
    }
   ],
   "source": [
    "import scipy.stats as stats\n",
    "\n",
    "sample_mean = 8\n",
    "sample_std_dev = 3\n",
    "sample_size = 100\n",
    "hypothesized_mean = 10\n",
    "significance_level = 0.05\n",
    "\n",
    "# Calculate the t-statistic\n",
    "t_statistic = (sample_mean - hypothesized_mean) / (sample_std_dev / (sample_size ** 0.5))\n",
    "\n",
    "# Calculate degrees of freedom\n",
    "degrees_of_freedom = sample_size - 1\n",
    "\n",
    "# Find the critical t-value for a two-tailed test\n",
    "critical_t_value = stats.t.ppf(1 - significance_level / 2, df=degrees_of_freedom)\n",
    "\n",
    "# Compare t-statistic and critical t-value\n",
    "if abs(t_statistic) >= critical_t_value:\n",
    "    result = \"Reject the null hypothesis\"\n",
    "else:\n",
    "    result = \"Fail to reject the null hypothesis\"\n",
    "\n",
    "\n",
    "print(\"t-Statistic:\", t_statistic)\n",
    "print(\"Critical t-Value:\", critical_t_value)\n",
    "print(\"Conclusion:\", result)\n"
   ]
  },
  {
   "cell_type": "markdown",
   "metadata": {},
   "source": [
    "**Q15.** An electronics company produces a certain type of product with a mean weight of 5 pounds and a\n",
    "standard deviation of 0.5 pounds. A random sample of 25 products is taken, and the sample mean weight\n",
    "is found to be 4.8 pounds. Test the hypothesis that the true mean weight of the products is less than 5\n",
    "pounds with a significance level of 0.01."
   ]
  },
  {
   "cell_type": "code",
   "execution_count": 8,
   "metadata": {},
   "outputs": [
    {
     "name": "stdout",
     "output_type": "stream",
     "text": [
      "z Score: -2.0000000000000018\n",
      "Critical Value: -2.3263478740408408\n",
      "Fail to Reject Null Hypothesis: There is no significant evidence that the true mean weight is less than 5 pounds.\n"
     ]
    }
   ],
   "source": [
    "import numpy as np\n",
    "from scipy import stats\n",
    "\n",
    "population_mean = 5  \n",
    "sample_mean = 4.8 \n",
    "population_stddev = 0.5  \n",
    "sample_size = 25  \n",
    "alpha = 0.01 \n",
    "\n",
    "z_score = (sample_mean - population_mean) / (population_stddev / np.sqrt(sample_size))\n",
    "# critical_value = stats.norm.ppf(alpha)\n",
    "critical_value = stats.norm.ppf(alpha)\n",
    "\n",
    "\n",
    "print(\"z Score:\",z_score)\n",
    "print(\"Critical Value:\", critical_value)\n",
    "\n",
    "if z_score < critical_value:\n",
    "    print(\"Reject Null Hypothesis: The true mean weight of the products is less than 5 pounds.\")\n",
    "else:\n",
    "    print(\"Fail to Reject Null Hypothesis: There is no significant evidence that the true mean weight is less than 5 pounds.\")\n"
   ]
  },
  {
   "cell_type": "markdown",
   "metadata": {},
   "source": [
    "**Q16.** Two groups of students are given different study materials to prepare for a test.\n",
    "\n",
    "The first group (n1 =30) has a mean score of 80 with a standard deviation of 10, and the second group (n2 = 40) has a mean score of 75 with a standard deviation of 8.\n",
    "\n",
    "Test the hypothesis that the population means for the two groups are equal with a significance level of 0.01."
   ]
  },
  {
   "cell_type": "markdown",
   "metadata": {},
   "source": [
    "\n",
    "Given data:\n",
    "\n",
    "- Group 1:\n",
    "  - Sample Mean (x̄₁): 80\n",
    "  - Sample Standard Deviation (s₁): 10\n",
    "  - Sample Size (n₁): 30\n",
    "\n",
    "- Group 2:\n",
    "  - Sample Mean (x̄₂): 75\n",
    "  - Sample Standard Deviation (s₂): 8\n",
    "  - Sample Size (n₂): 40\n",
    "\n",
    "Significance Level (α): 0.01\n",
    "\n",
    "**Observations:**\n",
    "\n",
    "The problem does not explicitly state whether the variances are significantly different.\n",
    "\n",
    "Both groups have a reasonable number of samples (30 and 40).\n",
    "\n",
    "No specific information is provided that would strongly suggest unequal variances.\n",
    "\n",
    "Based on these observations, it's reasonable to assume that the variances are not drastically different between the two groups. As a result, you can proceed with the more common approach of using the pooled standard deviation assumption for the t-test.\n",
    "\n",
    "**Performing the Hypothesis Test:**\n",
    "\n",
    "1. Calculate the pooled standard deviation (sp):\n",
    "\n",
    "   sp = sqrt(((n₁ - 1)s₁² + (n₂ - 1)s₂²) / (n₁ + n₂ - 2))\n",
    "\n",
    "   **sp = 9.21**\n",
    "   \n",
    "2. Calculate the t-statistic:\n",
    "\n",
    "   t = (x̄₁ - x̄₂) / (sp √(1/n₁ + 1/n₂))\n",
    "\n",
    "   **t = 0.031**\n",
    "   \n",
    "3. Degrees of Freedom (df):\n",
    "\n",
    "   df = n₁ + n₂ - 2\n",
    "\n",
    "   **df = 68**\n",
    "\n",
    "4. Find the critical t-value (t_critical) for a two-tailed test at α = 0.01.\n",
    "\n",
    "   **t critical = 2.65**\n",
    "\n",
    "5. Compare the t-statistic and critical t-value:\n",
    "\n",
    "      |t| < t_critical, we failed to reject the null hypothesis (H₀).\n",
    "\n",
    "**Conclusion:**\n",
    "\n",
    "Based on the independent two-sample t-test with a significance level of 0.01, we can compare the calculated t-statistic with the critical t-value.The absolute value of the t-statistic is smaller than the critical t-value, we failed to  reject the null hypothesis.\n"
   ]
  },
  {
   "cell_type": "code",
   "execution_count": 14,
   "metadata": {},
   "outputs": [
    {
     "name": "stdout",
     "output_type": "stream",
     "text": [
      "t-Statistic: 0.031636914637910955\n",
      "Critical t-Value: 2.6500812928169553\n",
      "Conclusion: Fail to reject the null hypothesis\n"
     ]
    }
   ],
   "source": [
    "import scipy.stats as stats\n",
    "\n",
    "# Given data for Group 1\n",
    "sample_mean_1 = 80\n",
    "sample_std_dev_1 = 10\n",
    "sample_size_1 = 30\n",
    "\n",
    "# Given data for Group 2\n",
    "sample_mean_2 = 75\n",
    "sample_std_dev_2 = 8\n",
    "sample_size_2 = 40\n",
    "\n",
    "# Significance level\n",
    "significance_level = 0.01\n",
    "\n",
    "# Calculate the pooled standard deviation\n",
    "pooled_std_dev = ((sample_size_1 - 1) * sample_std_dev_1**2 + (sample_size_2 - 1) * sample_std_dev_2**2) / (sample_size_1 + sample_size_2 - 2)**0.5\n",
    "\n",
    "# Calculate the t-statistic\n",
    "t_statistic = (sample_mean_1 - sample_mean_2) / (pooled_std_dev * (1/sample_size_1 + 1/sample_size_2)**0.5)\n",
    "\n",
    "# Degrees of freedom\n",
    "degrees_of_freedom = sample_size_1 + sample_size_2 - 2\n",
    "\n",
    "# Find the critical t-value for a two-tailed test\n",
    "critical_t_value = stats.t.ppf(1 - significance_level / 2, df=degrees_of_freedom)\n",
    "\n",
    "\n",
    "if abs(t_statistic) >= critical_t_value:\n",
    "    result = \"Reject the null hypothesis\"\n",
    "else:\n",
    "    result = \"Fail to reject the null hypothesis\"\n",
    "\n",
    "print(\"t-Statistic:\", t_statistic)\n",
    "print(\"Critical t-Value:\", critical_t_value)\n",
    "print(\"Conclusion:\", result)\n"
   ]
  },
  {
   "cell_type": "markdown",
   "metadata": {},
   "source": [
    "**Q17.** A marketing company wants to estimate the average number of ads watched by viewers during a TV program.\n",
    "\n",
    "They take a random sample of 50 viewers and find that the sample mean is 4 with a standard deviation of 1.5.\n",
    "\n",
    "Estimate the population mean with a 99% confidence interval."
   ]
  },
  {
   "cell_type": "markdown",
   "metadata": {},
   "source": [
    "**Given data:**\n",
    "\n",
    "Sample Mean (x̄): 4\n",
    "\n",
    "Sample Standard Deviation (s): 1.5\n",
    "\n",
    "Sample Size (n): 50\n",
    "\n",
    "Confidence Level: 99%\n",
    "\n",
    "**Calculations:**\n",
    "\n",
    "Calculate the critical Z-score for a 99% confidence level:\n",
    "\n",
    "**Z-score (99%) ≈ 2.576**\n",
    "\n",
    "Calculate the margin of error:\n",
    "\n",
    "Margin of Error = Z-score * (s / √n)\n",
    "\n",
    "**Margin of Error ≈ 2.576 * (1.5 / √50) = 0.54**\n",
    "\n",
    "Calculate the lower and upper bounds of the confidence interval:\n",
    "\n",
    "Lower Bound = x̄ - Margin of Error\n",
    "\n",
    "Upper Bound = x̄ + Margin of Error\n",
    "\n",
    "Results:\n",
    "\n",
    "**Substitute the values:**\n",
    "\n",
    "**Lower Bound ≈ 3.453**\n",
    "\n",
    "**Upper Bound ≈ 4.546**\n",
    "\n",
    "**Conclusion:**\n",
    "\n",
    "With 99% confidence, the average number of ads watched by viewers during the TV program is estimated to be between approximately 3.453 and 4.546."
   ]
  },
  {
   "cell_type": "code",
   "execution_count": 13,
   "metadata": {},
   "outputs": [
    {
     "name": "stdout",
     "output_type": "stream",
     "text": [
      "Critical Z score: 2.5758293035489004\n",
      "Margin of error: 0.5464159103155348\n",
      "Lower Bound: 3.4535840896844654\n",
      "Upper Bound: 4.546415910315535\n"
     ]
    }
   ],
   "source": [
    "import scipy.stats as stats\n",
    "\n",
    "# Given data\n",
    "sample_mean = 4\n",
    "sample_std_dev = 1.5\n",
    "sample_size = 50\n",
    "confidence_level = 0.99\n",
    "\n",
    "# Calculate the critical Z-score\n",
    "critical_z = stats.norm.ppf(1 - (1 - confidence_level) / 2)\n",
    "\n",
    "# Calculate the margin of error\n",
    "margin_of_error = critical_z * (sample_std_dev / (sample_size ** 0.5))\n",
    "\n",
    "# Calculate the confidence interval\n",
    "lower_bound = sample_mean - margin_of_error\n",
    "upper_bound = sample_mean + margin_of_error\n",
    "\n",
    "print(\"Critical Z score:\", critical_z)\n",
    "print(\"Margin of error:\",margin_of_error)\n",
    "print(\"Lower Bound:\", lower_bound)\n",
    "print(\"Upper Bound:\", upper_bound)\n"
   ]
  },
  {
   "cell_type": "code",
   "execution_count": null,
   "metadata": {},
   "outputs": [],
   "source": []
  }
 ],
 "metadata": {
  "kernelspec": {
   "display_name": "Python 3",
   "language": "python",
   "name": "python3"
  },
  "language_info": {
   "codemirror_mode": {
    "name": "ipython",
    "version": 3
   },
   "file_extension": ".py",
   "mimetype": "text/x-python",
   "name": "python",
   "nbconvert_exporter": "python",
   "pygments_lexer": "ipython3",
   "version": "3.11.1"
  },
  "orig_nbformat": 4
 },
 "nbformat": 4,
 "nbformat_minor": 2
}
